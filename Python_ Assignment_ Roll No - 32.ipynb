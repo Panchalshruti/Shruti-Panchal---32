{
 "cells": [
  {
   "cell_type": "markdown",
   "id": "cc57d11f",
   "metadata": {},
   "source": [
    "# Assignment submitted by Shruti .S. Panchal"
   ]
  },
  {
   "cell_type": "markdown",
   "id": "c72ca108",
   "metadata": {},
   "source": [
    "### 1. Write a Python program to calculate the length of a string"
   ]
  },
  {
   "cell_type": "code",
   "execution_count": 2,
   "id": "c76394e5",
   "metadata": {},
   "outputs": [
    {
     "name": "stdout",
     "output_type": "stream",
     "text": [
      "15\n"
     ]
    }
   ],
   "source": [
    "string = \"Merry Christmas\"\n",
    "print(len(string))"
   ]
  },
  {
   "cell_type": "markdown",
   "id": "bde14b20",
   "metadata": {},
   "source": [
    "### 2. Python program to calculate the square root"
   ]
  },
  {
   "cell_type": "code",
   "execution_count": 27,
   "id": "42891aee",
   "metadata": {},
   "outputs": [
    {
     "name": "stdout",
     "output_type": "stream",
     "text": [
      "Enter the value:4\n",
      "The square root of 4 is: 2.0\n"
     ]
    }
   ],
   "source": [
    "import math\n",
    "num = int(input(\"Enter the value:\"))\n",
    "result = math.sqrt(num)\n",
    "print(\"The square root of\",num,\"is:\",result)"
   ]
  },
  {
   "cell_type": "markdown",
   "id": "09cc472a",
   "metadata": {},
   "source": [
    "### 3. Write a Python program to convert temperature in Celcius to temperature in Farheneit"
   ]
  },
  {
   "cell_type": "code",
   "execution_count": 32,
   "id": "5b16ef74",
   "metadata": {},
   "outputs": [
    {
     "name": "stdout",
     "output_type": "stream",
     "text": [
      "Enter temperature in Celsius: 10\n",
      "10.0degree Celsius is equal to 50.0degree Fahrenheit.\n"
     ]
    }
   ],
   "source": [
    "celsius = float(input(\"Enter temperature in Celsius: \"))\n",
    "fahrenheit = (celsius * 1.8) + 32\n",
    "print (str(celsius) +\"degree Celsius is equal to \"+str(fahrenheit )+\"degree Fahrenheit.\")"
   ]
  },
  {
   "cell_type": "markdown",
   "id": "592b0d56",
   "metadata": {},
   "source": [
    "### 4.Write a data type needed for given data.(10,4.5,2+6j)"
   ]
  },
  {
   "cell_type": "code",
   "execution_count": 37,
   "id": "6b4858fb",
   "metadata": {},
   "outputs": [
    {
     "name": "stdout",
     "output_type": "stream",
     "text": [
      "10 is of type <class 'int'>\n"
     ]
    }
   ],
   "source": [
    "num1 = 10\n",
    "print(num1 ,'is of type',type(num1))"
   ]
  },
  {
   "cell_type": "code",
   "execution_count": 38,
   "id": "2c863914",
   "metadata": {},
   "outputs": [
    {
     "name": "stdout",
     "output_type": "stream",
     "text": [
      "4.5 is of type <class 'float'>\n"
     ]
    }
   ],
   "source": [
    "num2= 4.5\n",
    "print(num2,'is of type',type(num2))"
   ]
  },
  {
   "cell_type": "code",
   "execution_count": 39,
   "id": "1e30f1f1",
   "metadata": {},
   "outputs": [
    {
     "name": "stdout",
     "output_type": "stream",
     "text": [
      "(2+6j) is of type <class 'complex'>\n"
     ]
    }
   ],
   "source": [
    "num3=2+6j\n",
    "print(num3,'is of type',type(num3))"
   ]
  },
  {
   "cell_type": "code",
   "execution_count": null,
   "id": "4dd8cf1a",
   "metadata": {},
   "outputs": [],
   "source": []
  }
 ],
 "metadata": {
  "kernelspec": {
   "display_name": "Python 3 (ipykernel)",
   "language": "python",
   "name": "python3"
  },
  "language_info": {
   "codemirror_mode": {
    "name": "ipython",
    "version": 3
   },
   "file_extension": ".py",
   "mimetype": "text/x-python",
   "name": "python",
   "nbconvert_exporter": "python",
   "pygments_lexer": "ipython3",
   "version": "3.9.13"
  }
 },
 "nbformat": 4,
 "nbformat_minor": 5
}
